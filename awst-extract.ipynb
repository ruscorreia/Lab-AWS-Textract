{
 "cells": [
  {
   "cell_type": "markdown",
   "metadata": {},
   "source": [
    "# AWS Textract"
   ]
  },
  {
   "cell_type": "markdown",
   "metadata": {},
   "source": [
    "## Descrição do Projeto\n",
    "Este repositório foi criado para demonstrar como utilizar o AWS Textract para transcrever textos de imagens em formato de texto estruturado. O AWS Textract é um serviço da Amazon Web Services que utiliza machine learning para extrair texto, formulários e tabelas de documentos digitalizados."
   ]
  },
  {
   "cell_type": "code",
   "execution_count": null,
   "metadata": {},
   "outputs": [],
   "source": [
    "# Instale o Boto3 (AWS SDK para Python)\n",
    "!pip install boto3"
   ]
  },
  {
   "cell_type": "code",
   "execution_count": null,
   "metadata": {},
   "outputs": [],
   "source": [
    "import boto3\n",
    "\n",
    "# Configuração das credenciais da AWS\n",
    "# Substitua pelos seus próprios valores\n",
    "aws_access_key_id = ''\n",
    "aws_secret_access_key = ''\n",
    "region_name = 'us-east-1'\n",
    "\n",
    "# Inicializa o cliente do Textract\n",
    "client = boto3.client('textract', \n",
    "                      aws_access_key_id=aws_access_key_id, \n",
    "                      aws_secret_access_key=aws_secret_access_key, \n",
    "                      region_name=region_name)"
   ]
  },
  {
   "cell_type": "code",
   "execution_count": 5,
   "metadata": {},
   "outputs": [],
   "source": [
    "def extract_text_from_image(image_path):\n",
    "    \"\"\"\n",
    "    Extrai texto de uma imagem usando o AWS Textract.\n",
    "    \n",
    "    :param image_path: Caminho da imagem no sistema de arquivos.\n",
    "    :return: Texto extraído da imagem.\n",
    "    \"\"\"\n",
    "    # Lê a imagem em formato binário\n",
    "    with open(image_path, 'rb') as image_file:\n",
    "        image_bytes = image_file.read()\n",
    "\n",
    "    # Chama o Textract para detectar texto\n",
    "    response = client.detect_document_text(Document={'Bytes': image_bytes})\n",
    "\n",
    "    # Extrai e retorna o texto detectado\n",
    "    extracted_text = []\n",
    "    for item in response['Blocks']:\n",
    "        if item['BlockType'] == 'LINE':\n",
    "            extracted_text.append(item['Text'])\n",
    "    \n",
    "    return '\\n'.join(extracted_text)"
   ]
  },
  {
   "cell_type": "code",
   "execution_count": 7,
   "metadata": {},
   "outputs": [
    {
     "name": "stdout",
     "output_type": "stream",
     "text": [
      "Texto extraído da imagem:\n",
      "Lista de Material Escolar\n",
      ".3 rolos de fita crepe\n",
      ".1 bloco de canson A4\n",
      ".1 fita adesiva\n",
      ".5 folhas de cartolina\n",
      ".3 placas de EVA\n",
      ".1 EVA com gliter\n",
      ".5 papel colorset\n",
      ".1 caneta permanente\n",
      ".1 pacote palito de sorvete\n",
      ".4 papel cartão\n",
      ".1 kit leoni n. 1\n",
      ".1 dicionário\n",
      ".1 pincel n.14\n",
      ".1 pasta 20mm\n"
     ]
    }
   ],
   "source": [
    "# Caminho da imagem de exemplo\n",
    "image_path = 'img.png'\n",
    "\n",
    "# Extrai o texto da imagem\n",
    "texto_extraido = extract_text_from_image(image_path)\n",
    "\n",
    "# Exibe o texto extraído\n",
    "print(\"Texto extraído da imagem:\")\n",
    "print(texto_extraido)"
   ]
  }
 ],
 "metadata": {
  "kernelspec": {
   "display_name": "venv",
   "language": "python",
   "name": "python3"
  },
  "language_info": {
   "codemirror_mode": {
    "name": "ipython",
    "version": 3
   },
   "file_extension": ".py",
   "mimetype": "text/x-python",
   "name": "python",
   "nbconvert_exporter": "python",
   "pygments_lexer": "ipython3",
   "version": "3.12.9"
  }
 },
 "nbformat": 4,
 "nbformat_minor": 2
}
